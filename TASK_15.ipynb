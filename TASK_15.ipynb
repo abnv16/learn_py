{
  "nbformat": 4,
  "nbformat_minor": 0,
  "metadata": {
    "colab": {
      "name": "Copy of TASK 15.ipynb",
      "provenance": [],
      "include_colab_link": true
    },
    "kernelspec": {
      "name": "python3",
      "display_name": "Python 3"
    },
    "language_info": {
      "name": "python"
    }
  },
  "cells": [
    {
      "cell_type": "markdown",
      "metadata": {
        "id": "view-in-github",
        "colab_type": "text"
      },
      "source": [
        "<a href=\"https://colab.research.google.com/github/abnv16/learn_py/blob/main/TASK_15.ipynb\" target=\"_parent\"><img src=\"https://colab.research.google.com/assets/colab-badge.svg\" alt=\"Open In Colab\"/></a>"
      ]
    },
    {
      "cell_type": "markdown",
      "metadata": {
        "id": "mmfmNpvywy0n"
      },
      "source": [
        "1. For the given ndarray b below, evaluate whether elements in array, b are equal to 'red'.Assign the result to b_bool and print the resultant boolean array.\n",
        "b = np.array([\"blue\", \"blue\", \"red\", \"blue\"])"
      ]
    },
    {
      "cell_type": "code",
      "metadata": {
        "id": "KyVrfhasw7SW",
        "colab": {
          "base_uri": "https://localhost:8080/"
        },
        "outputId": "8647f113-c782-4c7a-c4c5-5227a7d60cfe"
      },
      "source": [
        "import numpy as np\n",
        "b = np.array([\"blue\", \"blue\", \"red\", \"blue\"])\n",
        "b_bool=(b==\"red\")\n",
        "print(b_bool)"
      ],
      "execution_count": null,
      "outputs": [
        {
          "output_type": "stream",
          "text": [
            "[False False  True False]\n"
          ],
          "name": "stdout"
        }
      ]
    },
    {
      "cell_type": "markdown",
      "metadata": {
        "id": "1IEqtJSDzx3p"
      },
      "source": [
        "2. Create two arrays on containing elements from 0-5 and another containing elements from 6-10. Then append this array."
      ]
    },
    {
      "cell_type": "code",
      "metadata": {
        "id": "7PXETiqF0Jeo",
        "colab": {
          "base_uri": "https://localhost:8080/"
        },
        "outputId": "36fb5dd3-32d9-45e2-ceca-5759585ea465"
      },
      "source": [
        " \n",
        "import numpy as np\n",
        " \n",
        "ar=np.array(np.arange(0,6))\n",
        "ar2=np.array(np.arange(6,11))\n",
        "array=np.append(ar,ar2)\n",
        "print(array)"
      ],
      "execution_count": null,
      "outputs": [
        {
          "output_type": "stream",
          "text": [
            "[ 0  1  2  3  4  5  6  7  8  9 10]\n"
          ],
          "name": "stdout"
        }
      ]
    },
    {
      "cell_type": "markdown",
      "metadata": {
        "id": "6JqR9EeB0P6K"
      },
      "source": [
        "3. Create a 2x4 array containing values from 0-7 and another 2x4 containing values from 8-15. Now append this with,\n",
        "\n",
        "  a) axis as 0\n",
        "\n",
        "  b) axis as 1"
      ]
    },
    {
      "cell_type": "code",
      "metadata": {
        "id": "AVhGyXzr1Pd8",
        "colab": {
          "base_uri": "https://localhost:8080/"
        },
        "outputId": "1aa8e9b2-232d-4c86-9026-1842ae4d16f3"
      },
      "source": [
        "import numpy as np\n",
        " \n",
        "ar=np.arange(0,8).reshape(2,4)\n",
        "ar2=np.arange(8,16).reshape(2,4)\n",
        " \n",
        "axis_0=np.append(ar,ar2,axis=0)\n",
        "print(\"axis 1\",axis_0)\n",
        " \n",
        "axis_1=np.append(ar,ar2,axis=1)\n",
        "print(\"axis 1\",axis_1)"
      ],
      "execution_count": 25,
      "outputs": [
        {
          "output_type": "stream",
          "text": [
            "axis 1 [[ 0  1  2  3]\n",
            " [ 4  5  6  7]\n",
            " [ 8  9 10 11]\n",
            " [12 13 14 15]]\n",
            "axis 1 [[ 0  1  2  3  8  9 10 11]\n",
            " [ 4  5  6  7 12 13 14 15]]\n"
          ],
          "name": "stdout"
        }
      ]
    }
  ]
}