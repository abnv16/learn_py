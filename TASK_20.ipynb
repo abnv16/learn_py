{
  "nbformat": 4,
  "nbformat_minor": 0,
  "metadata": {
    "colab": {
      "name": "TASK 20.ipynb",
      "provenance": [],
      "include_colab_link": true
    },
    "kernelspec": {
      "name": "python3",
      "display_name": "Python 3"
    },
    "language_info": {
      "name": "python"
    }
  },
  "cells": [
    {
      "cell_type": "markdown",
      "metadata": {
        "id": "view-in-github",
        "colab_type": "text"
      },
      "source": [
        "<a href=\"https://colab.research.google.com/github/abnv16/learn_py/blob/main/TASK_20.ipynb\" target=\"_parent\"><img src=\"https://colab.research.google.com/assets/colab-badge.svg\" alt=\"Open In Colab\"/></a>"
      ]
    },
    {
      "cell_type": "markdown",
      "metadata": {
        "id": "8LIfdcjDWmC3"
      },
      "source": [
        "1. In the data given below,\n",
        "  - find the boolean mask where value is nan\n",
        "  - remove the row with missing data.\n"
      ]
    },
    {
      "cell_type": "markdown",
      "metadata": {
        "id": "VPCGISRTbYPz"
      },
      "source": [
        ""
      ]
    },
    {
      "cell_type": "code",
      "metadata": {
        "colab": {
          "base_uri": "https://localhost:8080/"
        },
        "id": "VsZQYRqXXHpG",
        "outputId": "329101fc-171b-4a53-ecd5-5df003875ced"
      },
      "source": [
        "import pandas as pd\n",
        "import numpy as np\n",
        "dates = pd.date_range('20210101',periods=6)\n",
        "df = pd.DataFrame(np.random.randn(6,4), index=dates,columns=list('ABCD'))\n",
        "s1 = pd.Series([1,2,3,4,5,6], index=pd.date_range('20130102', periods=6))\n",
        "df[\"F\"]=s1\n",
        "df1=df.reindex(index=dates[0:4], columns=list(df.columns) + ['E'])\n",
        "df1.loc[dates[0]:dates[1],'E'] = 1\n",
        "df1\n",
        "\n",
        "print(df1)\n",
        "print(\"\\nboolean mask where value is nan:\\n\",df1.isnull())\n",
        "print(\"\\nRemove the row with missing data:\\n\",df1.dropna())\n",
        "\n",
        "\n"
      ],
      "execution_count": 13,
      "outputs": [
        {
          "output_type": "stream",
          "name": "stdout",
          "text": [
            "                   A         B         C         D   F    E\n",
            "2021-01-01  0.433387 -1.712754 -2.919457  0.741942 NaN  1.0\n",
            "2021-01-02  0.437455 -0.909438  1.661561 -1.203024 NaN  1.0\n",
            "2021-01-03  1.259742 -1.009850 -0.490298  0.549502 NaN  NaN\n",
            "2021-01-04  0.433924  1.655297 -1.080331  0.840484 NaN  NaN\n",
            "\n",
            "boolean mask where value is nan:\n",
            "                 A      B      C      D     F      E\n",
            "2021-01-01  False  False  False  False  True  False\n",
            "2021-01-02  False  False  False  False  True  False\n",
            "2021-01-03  False  False  False  False  True   True\n",
            "2021-01-04  False  False  False  False  True   True\n",
            "\n",
            "Remove the row with missing data:\n",
            " Empty DataFrame\n",
            "Columns: [A, B, C, D, F, E]\n",
            "Index: []\n"
          ]
        }
      ]
    },
    {
      "cell_type": "markdown",
      "metadata": {
        "id": "z1sv0aluZhcd"
      },
      "source": [
        "2. In the data given below,fill the missing data with 20."
      ]
    },
    {
      "cell_type": "code",
      "metadata": {
        "colab": {
          "base_uri": "https://localhost:8080/"
        },
        "id": "x3ZHFCeyZ0j2",
        "outputId": "dea249d8-842f-4f65-c5c2-694819e93da0"
      },
      "source": [
        "import pandas as pd\n",
        "import numpy as np\n",
        "dates = pd.date_range('20210101',periods=6)\n",
        "df = pd.DataFrame(np.random.randn(6,4), index=dates,columns=list('ABCD'))\n",
        "s1 = pd.Series([1,2,3,4,5,6], index=pd.date_range('20130102', periods=6))\n",
        "df[\"F\"]=s1\n",
        "df1=df.reindex(index=dates[0:4], columns=list(df.columns) + ['E'])\n",
        "df1.loc[dates[0]:dates[1],'E'] = 1\n",
        "df1\n",
        "\n",
        "print(df1)\n",
        "print(\"\\nFilling the missing data with 20:\\n\",df1.fillna(value = 20))"
      ],
      "execution_count": 16,
      "outputs": [
        {
          "output_type": "stream",
          "name": "stdout",
          "text": [
            "                   A         B         C         D   F    E\n",
            "2021-01-01 -0.017274 -0.660904 -1.354743  2.046253 NaN  1.0\n",
            "2021-01-02 -0.098682  0.429594 -1.258545 -1.399919 NaN  1.0\n",
            "2021-01-03  1.053546 -1.348383  0.638097 -1.626512 NaN  NaN\n",
            "2021-01-04 -1.390603 -0.651105 -0.184225  0.525967 NaN  NaN\n",
            "\n",
            "Filling the missing data with 20:\n",
            "                    A         B         C         D     F     E\n",
            "2021-01-01 -0.017274 -0.660904 -1.354743  2.046253  20.0   1.0\n",
            "2021-01-02 -0.098682  0.429594 -1.258545 -1.399919  20.0   1.0\n",
            "2021-01-03  1.053546 -1.348383  0.638097 -1.626512  20.0  20.0\n",
            "2021-01-04 -1.390603 -0.651105 -0.184225  0.525967  20.0  20.0\n"
          ]
        }
      ]
    },
    {
      "cell_type": "markdown",
      "metadata": {
        "id": "vMzwvpxcZ3G8"
      },
      "source": [
        "3. From the data given below,\n",
        "  - break the data in to pieces from 0 t0 2 ,3 t0 7\n",
        "  - concatenate the pieces.\n",
        "  - concatenate the pieces along axis 1\n",
        "  - label each as 'a' and 'b' respectively and perform concatenation."
      ]
    },
    {
      "cell_type": "code",
      "metadata": {
        "colab": {
          "base_uri": "https://localhost:8080/"
        },
        "id": "LxGwKPTVbbXV",
        "outputId": "f0a95c47-2c3b-4e13-81e7-1a58d946d2ea"
      },
      "source": [
        "import pandas as pd\n",
        "import numpy as np\n",
        "df = pd.DataFrame(np.random.randn(10, 4))\n",
        "df\n",
        "#please provide your answer below this line\n",
        "\n",
        "print(df)\n",
        "pieces = [df[:3],df[3:8]]\n",
        "print(\"\\nPieces of data from 0 to 2 ,3 to 7:\\n\",pieces[0],\"\\n\",pieces[1])\n",
        "print(\"\\nConcatenated pieces:\\n\",pd.concat(pieces))\n",
        "print(\"\\nconcatenate the pieces along axis 1:\\n\",pd.concat(pieces, axis = 1))\n",
        "a = pieces[0]\n",
        "b = pieces[1]\n",
        "print(\"\\nConcatination of a and b:\\n\",pd.concat([a,b]))\n"
      ],
      "execution_count": 21,
      "outputs": [
        {
          "output_type": "stream",
          "name": "stdout",
          "text": [
            "          0         1         2         3\n",
            "0  0.411872 -0.783898  1.863833  1.908953\n",
            "1  0.054355  1.137820  0.815131 -1.306332\n",
            "2 -0.399753 -0.835283 -0.065822  0.845296\n",
            "3  0.371786  2.275399 -1.292758  0.136768\n",
            "4  0.356140 -1.730297  0.331347 -0.064830\n",
            "5 -0.078551 -1.791974  0.125621 -0.104620\n",
            "6  0.573756  0.575361  1.961849 -0.884109\n",
            "7 -1.673034 -0.643394  0.176069  1.241623\n",
            "8 -0.209504 -1.018063 -0.548128 -1.097875\n",
            "9 -0.882070  0.381123 -0.934021  0.933557\n",
            "\n",
            "Pieces of data from 0 to 2 ,3 to 7:\n",
            "           0         1         2         3\n",
            "0  0.411872 -0.783898  1.863833  1.908953\n",
            "1  0.054355  1.137820  0.815131 -1.306332\n",
            "2 -0.399753 -0.835283 -0.065822  0.845296 \n",
            "           0         1         2         3\n",
            "3  0.371786  2.275399 -1.292758  0.136768\n",
            "4  0.356140 -1.730297  0.331347 -0.064830\n",
            "5 -0.078551 -1.791974  0.125621 -0.104620\n",
            "6  0.573756  0.575361  1.961849 -0.884109\n",
            "7 -1.673034 -0.643394  0.176069  1.241623\n",
            "\n",
            "Concatenated pieces:\n",
            "           0         1         2         3\n",
            "0  0.411872 -0.783898  1.863833  1.908953\n",
            "1  0.054355  1.137820  0.815131 -1.306332\n",
            "2 -0.399753 -0.835283 -0.065822  0.845296\n",
            "3  0.371786  2.275399 -1.292758  0.136768\n",
            "4  0.356140 -1.730297  0.331347 -0.064830\n",
            "5 -0.078551 -1.791974  0.125621 -0.104620\n",
            "6  0.573756  0.575361  1.961849 -0.884109\n",
            "7 -1.673034 -0.643394  0.176069  1.241623\n",
            "\n",
            "concatenate the pieces along axis 1:\n",
            "           0         1         2  ...         1         2         3\n",
            "0  0.411872 -0.783898  1.863833  ...       NaN       NaN       NaN\n",
            "1  0.054355  1.137820  0.815131  ...       NaN       NaN       NaN\n",
            "2 -0.399753 -0.835283 -0.065822  ...       NaN       NaN       NaN\n",
            "3       NaN       NaN       NaN  ...  2.275399 -1.292758  0.136768\n",
            "4       NaN       NaN       NaN  ... -1.730297  0.331347 -0.064830\n",
            "5       NaN       NaN       NaN  ... -1.791974  0.125621 -0.104620\n",
            "6       NaN       NaN       NaN  ...  0.575361  1.961849 -0.884109\n",
            "7       NaN       NaN       NaN  ... -0.643394  0.176069  1.241623\n",
            "\n",
            "[8 rows x 8 columns]\n",
            "\n",
            "Concatination of a and b:\n",
            "           0         1         2         3\n",
            "0  0.411872 -0.783898  1.863833  1.908953\n",
            "1  0.054355  1.137820  0.815131 -1.306332\n",
            "2 -0.399753 -0.835283 -0.065822  0.845296\n",
            "3  0.371786  2.275399 -1.292758  0.136768\n",
            "4  0.356140 -1.730297  0.331347 -0.064830\n",
            "5 -0.078551 -1.791974  0.125621 -0.104620\n",
            "6  0.573756  0.575361  1.961849 -0.884109\n",
            "7 -1.673034 -0.643394  0.176069  1.241623\n"
          ]
        }
      ]
    },
    {
      "cell_type": "code",
      "metadata": {
        "id": "h290MAgudPQI"
      },
      "source": [
        ""
      ],
      "execution_count": null,
      "outputs": []
    }
  ]
}