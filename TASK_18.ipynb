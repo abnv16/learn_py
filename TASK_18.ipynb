{
  "nbformat": 4,
  "nbformat_minor": 0,
  "metadata": {
    "colab": {
      "name": "TASK 18.ipynb",
      "provenance": [],
      "include_colab_link": true
    },
    "kernelspec": {
      "name": "python3",
      "display_name": "Python 3"
    },
    "language_info": {
      "name": "python"
    }
  },
  "cells": [
    {
      "cell_type": "markdown",
      "metadata": {
        "id": "view-in-github",
        "colab_type": "text"
      },
      "source": [
        "<a href=\"https://colab.research.google.com/github/abnv16/learn_py/blob/main/TASK_18.ipynb\" target=\"_parent\"><img src=\"https://colab.research.google.com/assets/colab-badge.svg\" alt=\"Open In Colab\"/></a>"
      ]
    },
    {
      "cell_type": "markdown",
      "metadata": {
        "id": "_JgXT8pEAjU4"
      },
      "source": [
        "1. \n",
        "Create a DataFrame by passing a random numpy array,with a datetie index and labelled columns.and,\n",
        "    - slice its first three rows and display.\n",
        "    - slice its odd indexed rows.\n",
        "    - display the dates from 1st postion to 4 th position."
      ]
    },
    {
      "cell_type": "code",
      "metadata": {
        "id": "5zFM5VOJBKBV",
        "colab": {
          "base_uri": "https://localhost:8080/"
        },
        "outputId": "520d26ca-8df5-4b49-a3a9-a9a0c9b0b1b1"
      },
      "source": [
        "import numpy as np\n",
        "import pandas as pd\n",
        "datetie = pd.date_range('2021-08-31',periods=8)\n",
        "df = pd.DataFrame(np.random.randn(8,5), index=datetie, columns=list('ABCDE'))\n",
        "print(\"Dataframe :\\n\",df)\n",
        "print(\"First three rows:\\n\",df.iloc[0:3])\n",
        "print(\"\\nOdd indexed rows:\\n\",df.iloc[1::2])\n",
        "dt1=df.iloc[0:4]\n",
        "print (\"Dates from position 1 to 4 :\\n\",dt1.index)\n"
      ],
      "execution_count": 12,
      "outputs": [
        {
          "output_type": "stream",
          "name": "stdout",
          "text": [
            "Dataframe :\n",
            "                    A         B         C         D         E\n",
            "2021-08-31 -0.671210  0.127305 -0.518339  0.098368  1.686977\n",
            "2021-09-01  0.744695 -0.097097  0.705538 -0.036874  0.776199\n",
            "2021-09-02  1.569682  1.161586 -1.933672  0.450108  0.280380\n",
            "2021-09-03  0.751667 -1.655469 -0.116917 -0.550073 -2.157614\n",
            "2021-09-04  0.930087 -0.862787 -2.659655  0.021529  1.363458\n",
            "2021-09-05 -1.480601 -0.248180 -0.790503  0.798910 -0.013750\n",
            "2021-09-06  0.395131  0.498609  1.412811  0.223755 -0.371472\n",
            "2021-09-07  1.661219 -1.286127  1.363395 -2.100801  0.183142\n",
            "First three rows:\n",
            "                    A         B         C         D         E\n",
            "2021-08-31 -0.671210  0.127305 -0.518339  0.098368  1.686977\n",
            "2021-09-01  0.744695 -0.097097  0.705538 -0.036874  0.776199\n",
            "2021-09-02  1.569682  1.161586 -1.933672  0.450108  0.280380\n",
            "\n",
            "Odd indexed rows:\n",
            "                    A         B         C         D         E\n",
            "2021-09-01  0.744695 -0.097097  0.705538 -0.036874  0.776199\n",
            "2021-09-03  0.751667 -1.655469 -0.116917 -0.550073 -2.157614\n",
            "2021-09-05 -1.480601 -0.248180 -0.790503  0.798910 -0.013750\n",
            "2021-09-07  1.661219 -1.286127  1.363395 -2.100801  0.183142\n",
            "Dates from position 1 to 4 :\n",
            " DatetimeIndex(['2021-08-31', '2021-09-01', '2021-09-02', '2021-09-03'], dtype='datetime64[ns]', freq='D')\n"
          ]
        }
      ]
    },
    {
      "cell_type": "markdown",
      "metadata": {
        "id": "QuoucvjxBPmX"
      },
      "source": [
        "2. Create a DataFrame by passing a random numpy array,with a datetie index and labelled columns.and\n",
        "  - Dislplay the index from the 1 to 3 date and the columns A and B of respective data.\n",
        "  - Display the datas at the 3rd index.\n",
        "  - Display datas from 2nd to 5th.\n",
        "  - Display the datas from the index 1,2,4 and the column 0 and 2."
      ]
    },
    {
      "cell_type": "code",
      "metadata": {
        "id": "qV_wzsp1DUKI",
        "colab": {
          "base_uri": "https://localhost:8080/"
        },
        "outputId": "2ef32e46-a349-45d2-99a7-358b7e5a0553"
      },
      "source": [
        "import numpy as np\n",
        "import pandas as pd\n",
        "datetie = pd.date_range('2021-08-31',periods=8)\n",
        "df = pd.DataFrame(np.random.randn(8,5), index=datetie, columns=list('ABCDE'))\n",
        "print(\"Index 1 to 3 date and the columns A and B:\\n\",df.iloc[1:4,0:2])\n",
        "print(\"\\nDatas at the 3rd index:\\n\",df.iloc[3:4])\n",
        "print(\"\\nDatas from 2nd to 5th:\\n\",df.iloc[2:6])\n",
        "print(\"\\nDatas from the index 1,2,4 and the column 0 and 2:\\n\",df.iloc[[1,2,4],[0,2]])\n"
      ],
      "execution_count": 20,
      "outputs": [
        {
          "output_type": "stream",
          "name": "stdout",
          "text": [
            "Index 1 to 3 date and the columns A and B:\n",
            "                    A         B\n",
            "2021-09-01 -0.043360 -0.416076\n",
            "2021-09-02  0.237031  0.992072\n",
            "2021-09-03 -0.001740  0.825692\n",
            "\n",
            "Datas at the 3rd index:\n",
            "                   A         B         C         D         E\n",
            "2021-09-03 -0.00174  0.825692  1.497215 -1.138771  0.111116\n",
            "\n",
            "Datas from 2nd to 5th:\n",
            "                    A         B         C         D         E\n",
            "2021-09-02  0.237031  0.992072 -1.221909  0.720824  1.406038\n",
            "2021-09-03 -0.001740  0.825692  1.497215 -1.138771  0.111116\n",
            "2021-09-04 -2.105744  0.765170  1.588259  1.278326 -0.028994\n",
            "2021-09-05 -2.494184 -1.790773 -0.396378 -1.130307  0.283505\n",
            "\n",
            "Datas from the index 1,2,4 and the column 0 and 2:\n",
            "                    A         C\n",
            "2021-09-01 -0.043360  0.429031\n",
            "2021-09-02  0.237031 -1.221909\n",
            "2021-09-04 -2.105744  1.588259\n"
          ]
        }
      ]
    }
  ]
}