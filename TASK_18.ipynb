{
  "nbformat": 4,
  "nbformat_minor": 0,
  "metadata": {
    "colab": {
      "name": "TASK 18.ipynb",
      "provenance": [],
      "include_colab_link": true
    },
    "kernelspec": {
      "name": "python3",
      "display_name": "Python 3"
    },
    "language_info": {
      "name": "python"
    }
  },
  "cells": [
    {
      "cell_type": "markdown",
      "metadata": {
        "id": "view-in-github",
        "colab_type": "text"
      },
      "source": [
        "<a href=\"https://colab.research.google.com/github/abnv16/learn_py/blob/main/TASK_18.ipynb\" target=\"_parent\"><img src=\"https://colab.research.google.com/assets/colab-badge.svg\" alt=\"Open In Colab\"/></a>"
      ]
    },
    {
      "cell_type": "markdown",
      "metadata": {
        "id": "_JgXT8pEAjU4"
      },
      "source": [
        "1. \n",
        "Create a DataFrame by passing a random numpy array,with a datetie index and labelled columns.and,\n",
        "    - slice its first three rows and display.\n",
        "    - slice its odd indexed rows.\n",
        "    - display the dates from 1st postion to 4 th position."
      ]
    },
    {
      "cell_type": "code",
      "metadata": {
        "id": "5zFM5VOJBKBV",
        "outputId": "520d26ca-8df5-4b49-a3a9-a9a0c9b0b1b1",
        "colab": {
          "base_uri": "https://localhost:8080/"
        }
      },
      "source": [
        "import numpy as np\n",
        "import pandas as pd\n",
        "datetie = pd.date_range('2021-08-31',periods=8)\n",
        "df = pd.DataFrame(np.random.randn(8,5), index=datetie, columns=list('ABCDE'))\n",
        "print(\"Dataframe :\\n\",df)\n",
        "print(\"First three rows:\\n\",df.iloc[0:3])\n",
        "print(\"\\nOdd indexed rows:\\n\",df.iloc[1::2])\n",
        "dt1=df.iloc[0:4]\n",
        "print (\"Dates from position 1 to 4 :\\n\",dt1.index)\n"
      ],
      "execution_count": 12,
      "outputs": [
        {
          "output_type": "stream",
          "name": "stdout",
          "text": [
            "Dataframe :\n",
            "                    A         B         C         D         E\n",
            "2021-08-31 -0.671210  0.127305 -0.518339  0.098368  1.686977\n",
            "2021-09-01  0.744695 -0.097097  0.705538 -0.036874  0.776199\n",
            "2021-09-02  1.569682  1.161586 -1.933672  0.450108  0.280380\n",
            "2021-09-03  0.751667 -1.655469 -0.116917 -0.550073 -2.157614\n",
            "2021-09-04  0.930087 -0.862787 -2.659655  0.021529  1.363458\n",
            "2021-09-05 -1.480601 -0.248180 -0.790503  0.798910 -0.013750\n",
            "2021-09-06  0.395131  0.498609  1.412811  0.223755 -0.371472\n",
            "2021-09-07  1.661219 -1.286127  1.363395 -2.100801  0.183142\n",
            "First three rows:\n",
            "                    A         B         C         D         E\n",
            "2021-08-31 -0.671210  0.127305 -0.518339  0.098368  1.686977\n",
            "2021-09-01  0.744695 -0.097097  0.705538 -0.036874  0.776199\n",
            "2021-09-02  1.569682  1.161586 -1.933672  0.450108  0.280380\n",
            "\n",
            "Odd indexed rows:\n",
            "                    A         B         C         D         E\n",
            "2021-09-01  0.744695 -0.097097  0.705538 -0.036874  0.776199\n",
            "2021-09-03  0.751667 -1.655469 -0.116917 -0.550073 -2.157614\n",
            "2021-09-05 -1.480601 -0.248180 -0.790503  0.798910 -0.013750\n",
            "2021-09-07  1.661219 -1.286127  1.363395 -2.100801  0.183142\n",
            "Dates from position 1 to 4 :\n",
            " DatetimeIndex(['2021-08-31', '2021-09-01', '2021-09-02', '2021-09-03'], dtype='datetime64[ns]', freq='D')\n"
          ]
        }
      ]
    },
    {
      "cell_type": "markdown",
      "metadata": {
        "id": "QuoucvjxBPmX"
      },
      "source": [
        "2. Create a DataFrame by passing a random numpy array,with a datetie index and labelled columns.and\n",
        "  - Dislplay the index from the 1 to 3 date and the columns A and B of respective data.\n",
        "  - Display the datas at the 3rd index.\n",
        "  - Display datas from 2nd to 5th.\n",
        "  - Display the datas from the index 1,2,4 and the column 0 and 2."
      ]
    },
    {
      "cell_type": "code",
      "metadata": {
        "id": "qV_wzsp1DUKI",
        "outputId": "c6cc99b8-7e59-4265-aec6-114d9a6b4221",
        "colab": {
          "base_uri": "https://localhost:8080/"
        }
      },
      "source": [
        "import numpy as np\n",
        "import pandas as pd\n",
        "datetie = pd.date_range('2021-08-24',periods=8)\n",
        "df = pd.DataFrame(np.random.randn(8,5), index=datetie, columns=list('ABCDE'))\n",
        "print(\"Index 1 to 3 date and the columns A and B:\\n\",df.iloc[1:4,0:2])\n",
        "print(\"\\nDatas at the 3rd index:\\n\",df.iloc[3:4])\n",
        "print(\"\\nDatas from 2nd to 5th:\\n\",df.iloc[2:6])\n",
        "print(\"\\nDatas from the index 1,2,4 and the column 0 and 2:\\n\",df.iloc[[1,2,4],[0,2]])\n"
      ],
      "execution_count": 19,
      "outputs": [
        {
          "output_type": "stream",
          "name": "stdout",
          "text": [
            "Index 1 to 3 date and the columns A and B:\n",
            "                    A         B\n",
            "2021-08-25  0.501079  0.025576\n",
            "2021-08-26 -1.057868 -0.472298\n",
            "2021-08-27  0.423665 -0.200560\n",
            "\n",
            "Datas at the 3rd index:\n",
            "                    A        B         C         D         E\n",
            "2021-08-27  0.423665 -0.20056 -1.521531 -0.142332 -0.473683\n",
            "\n",
            "Datas from 2nd to 5th:\n",
            "                    A         B         C         D         E\n",
            "2021-08-26 -1.057868 -0.472298  0.377523 -0.727100  1.485837\n",
            "2021-08-27  0.423665 -0.200560 -1.521531 -0.142332 -0.473683\n",
            "2021-08-28 -0.635401  0.819575  1.783852  0.528390 -0.207814\n",
            "2021-08-29  0.794017  0.312704  0.330609 -1.851815 -0.399602\n",
            "\n",
            "Datas from the index 1,2,4 and the column 0 and 2:\n",
            "                    A         C\n",
            "2021-08-25  0.501079  0.090758\n",
            "2021-08-26 -1.057868  0.377523\n",
            "2021-08-28 -0.635401  1.783852\n"
          ]
        }
      ]
    }
  ]
}