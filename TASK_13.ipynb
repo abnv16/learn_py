{
  "nbformat": 4,
  "nbformat_minor": 0,
  "metadata": {
    "colab": {
      "name": "Copy of TASK 13.ipynb",
      "provenance": [],
      "include_colab_link": true
    },
    "kernelspec": {
      "name": "python3",
      "display_name": "Python 3"
    },
    "language_info": {
      "name": "python"
    }
  },
  "cells": [
    {
      "cell_type": "markdown",
      "metadata": {
        "id": "view-in-github",
        "colab_type": "text"
      },
      "source": [
        "<a href=\"https://colab.research.google.com/github/abnv16/learn_py/blob/main/TASK_13.ipynb\" target=\"_parent\"><img src=\"https://colab.research.google.com/assets/colab-badge.svg\" alt=\"Open In Colab\"/></a>"
      ]
    },
    {
      "cell_type": "markdown",
      "metadata": {
        "id": "RUSoRkrOqNwf"
      },
      "source": [
        "1. Create a 3x3 array values ranging from 0-8.Find the sum of the elements in this array."
      ]
    },
    {
      "cell_type": "code",
      "metadata": {
        "id": "t01ATYQpqq8u",
        "colab": {
          "base_uri": "https://localhost:8080/"
        },
        "outputId": "1a270016-0896-4255-d469-7799b194bd2a"
      },
      "source": [
        "import numpy as np\n",
        " \n",
        "array=np.arange(0,9)\n",
        "ar=array.reshape(3,3)\n",
        "print (np.sum(ar))"
      ],
      "execution_count": null,
      "outputs": [
        {
          "output_type": "stream",
          "text": [
            "36\n"
          ],
          "name": "stdout"
        }
      ]
    },
    {
      "cell_type": "markdown",
      "metadata": {
        "id": "k3Y7nQF7r3IW"
      },
      "source": [
        "2. Create a 3x3 array values ranging from 0-8.Find the row sum and column sum of this array."
      ]
    },
    {
      "cell_type": "code",
      "metadata": {
        "id": "BzvIlWfvsICv",
        "colab": {
          "base_uri": "https://localhost:8080/"
        },
        "outputId": "1e808b9a-6246-4a1d-ca15-bee6af1a6314"
      },
      "source": [
        " import numpy as np\n",
        " \n",
        "array=np.arange(0,9)\n",
        "ar=array.reshape(3,3)\n",
        "print(\"Sum of each column:\")\n",
        "print(np.sum(ar,axis=0))\n",
        "print(\"Sum of each row:\")\n",
        "print(np.sum(ar,axis=1))"
      ],
      "execution_count": null,
      "outputs": [
        {
          "output_type": "stream",
          "text": [
            "Sum of each column:\n",
            "[ 9 12 15]\n",
            "Sum of each row:\n",
            "[ 3 12 21]\n"
          ],
          "name": "stdout"
        }
      ]
    },
    {
      "cell_type": "markdown",
      "metadata": {
        "id": "KOPMsbnrsgue"
      },
      "source": [
        "3. Create a 4x4 array values ranging from 0-15. Now,\n",
        "\n",
        "    a) Find the mininmum value in the array.\n",
        "    \n",
        "    b) Find the maximum value in the array.\n",
        "\n",
        "    c) Find the mean of the values in the array."
      ]
    },
    {
      "cell_type": "code",
      "metadata": {
        "id": "1UzITxp3WDaW",
        "colab": {
          "base_uri": "https://localhost:8080/"
        },
        "outputId": "7fd96b01-817d-4aff-ad02-02df17e61ae5"
      },
      "source": [
        " import numpy as np\n",
        " \n",
        "array=np.arange(0,16)\n",
        "ar=array.reshape(4,4)\n",
        " \n",
        "print(\"minimum\",np.min(ar))\n",
        "print(\"maximum\",np.max(ar))\n",
        "print(\"mean\",np.mean(ar))"
      ],
      "execution_count": null,
      "outputs": [
        {
          "output_type": "stream",
          "text": [
            "minimum 0\n",
            "maximum 15\n",
            "mean 7.5\n"
          ],
          "name": "stdout"
        }
      ]
    },
    {
      "cell_type": "markdown",
      "metadata": {
        "id": "Pah9qGButoz2"
      },
      "source": [
        "4. Create an 10x10 array values ranging from 0-99.And ,\n",
        "\n",
        "    a) Print the 7th row.\n",
        "    \n",
        "    b) Print the rows from 4-8.\n",
        "\n",
        "    c) Print the value at the index 5,5.\n",
        "\n",
        "    d) Print the 5th colomn.\n",
        "\n",
        "    e) Print the columns from 2-5."
      ]
    },
    {
      "cell_type": "code",
      "metadata": {
        "id": "JFXPq0GkvhKi",
        "colab": {
          "base_uri": "https://localhost:8080/"
        },
        "outputId": "2200b696-d401-4bd8-ffe5-70b4fab254f0"
      },
      "source": [
        " import numpy as np\n",
        " \n",
        "array=np.arange(0,100)\n",
        "ar=array.reshape(10,10)\n",
        "row = ar[7, :]\n",
        "print('7th row\\n', row)\n",
        "rows = ar[4:9, :]\n",
        "print (\"row 4 to 8\\n\",rows)\n",
        "print(\"array of index 5,5 =\",ar[5,5])\n",
        "print(\"5th column \",ar[:,5])\n",
        "print(\"column 2 to 5\\n\",ar[:,2:6])"
      ],
      "execution_count": 39,
      "outputs": [
        {
          "output_type": "stream",
          "text": [
            "7th row\n",
            " [70 71 72 73 74 75 76 77 78 79]\n",
            "row 4 to 8\n",
            " [[40 41 42 43 44 45 46 47 48 49]\n",
            " [50 51 52 53 54 55 56 57 58 59]\n",
            " [60 61 62 63 64 65 66 67 68 69]\n",
            " [70 71 72 73 74 75 76 77 78 79]\n",
            " [80 81 82 83 84 85 86 87 88 89]]\n",
            "array of index 5,5 = 55\n",
            "5th column  [ 5 15 25 35 45 55 65 75 85 95]\n",
            "column 2 to 5\n",
            " [[ 2  3  4  5]\n",
            " [12 13 14 15]\n",
            " [22 23 24 25]\n",
            " [32 33 34 35]\n",
            " [42 43 44 45]\n",
            " [52 53 54 55]\n",
            " [62 63 64 65]\n",
            " [72 73 74 75]\n",
            " [82 83 84 85]\n",
            " [92 93 94 95]]\n"
          ],
          "name": "stdout"
        }
      ]
    }
  ]
}