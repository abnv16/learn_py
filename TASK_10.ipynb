{
  "nbformat": 4,
  "nbformat_minor": 0,
  "metadata": {
    "colab": {
      "name": "Copy of TASK 10.ipynb",
      "provenance": [],
      "include_colab_link": true
    },
    "kernelspec": {
      "name": "python3",
      "display_name": "Python 3"
    },
    "language_info": {
      "name": "python"
    }
  },
  "cells": [
    {
      "cell_type": "markdown",
      "metadata": {
        "id": "view-in-github",
        "colab_type": "text"
      },
      "source": [
        "<a href=\"https://colab.research.google.com/github/abnv16/learn_py/blob/main/TASK_10.ipynb\" target=\"_parent\"><img src=\"https://colab.research.google.com/assets/colab-badge.svg\" alt=\"Open In Colab\"/></a>"
      ]
    },
    {
      "cell_type": "markdown",
      "metadata": {
        "id": "VHKxwUewxOi2"
      },
      "source": [
        "1. Generate two  3 x 3 matrix and find it's dot product and take the transpose of the answer."
      ]
    },
    {
      "cell_type": "code",
      "metadata": {
        "id": "RdyKd1CAxZtR",
        "colab": {
          "base_uri": "https://localhost:8080/"
        },
        "outputId": "ef3bfb69-40d4-4227-f2c1-a16e626aa9b5"
      },
      "source": [
        "import numpy as np\n",
        " \n",
        "arr=np.random.randint(10,size=(3,3))\n",
        "arr2=np.random.randint(10,size=(3,3))\n",
        "dt=np.dot(arr,arr2)\n",
        "print(\"Dot product :\\n\",dt)\n",
        "print(\"Transpose :\\n\",dt.T)"
      ],
      "execution_count": null,
      "outputs": [
        {
          "output_type": "stream",
          "text": [
            "Dot product :\n",
            " [[ 92  90 115]\n",
            " [ 36  30  57]\n",
            " [123 111 177]]\n",
            "Transpose :\n",
            " [[ 92  36 123]\n",
            " [ 90  30 111]\n",
            " [115  57 177]]\n"
          ],
          "name": "stdout"
        }
      ]
    },
    {
      "cell_type": "markdown",
      "metadata": {
        "id": "9c9ZwiBxxf4t"
      },
      "source": [
        "2. Create a 3x3 matrix with elements [55,25,15], [30,44,2], [11,45,77] . Now find the determinant of the given matrix."
      ]
    },
    {
      "cell_type": "code",
      "metadata": {
        "id": "Anmr3C9KyNyy",
        "colab": {
          "base_uri": "https://localhost:8080/"
        },
        "outputId": "039a4557-0ce0-47a6-b149-9fae4f410e7b"
      },
      "source": [
        " \n",
        "import numpy as np\n",
        " \n",
        "arr=np.array([[55,25,15],[30,44,2],[11,45,77]])\n",
        "print(arr)\n",
        "det=np.linalg.det(arr)\n",
        "print (\"determinant:\\n\",det)"
      ],
      "execution_count": 16,
      "outputs": [
        {
          "output_type": "stream",
          "text": [
            "[[55 25 15]\n",
            " [30 44  2]\n",
            " [11 45 77]]\n",
            "determinant:\n",
            " 137180.0000000001\n"
          ],
          "name": "stdout"
        }
      ]
    }
  ]
}