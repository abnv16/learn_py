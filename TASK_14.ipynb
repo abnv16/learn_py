{
  "nbformat": 4,
  "nbformat_minor": 0,
  "metadata": {
    "colab": {
      "name": "Copy of TASK 14.ipynb",
      "provenance": [],
      "include_colab_link": true
    },
    "kernelspec": {
      "name": "python3",
      "display_name": "Python 3"
    },
    "language_info": {
      "name": "python"
    }
  },
  "cells": [
    {
      "cell_type": "markdown",
      "metadata": {
        "id": "view-in-github",
        "colab_type": "text"
      },
      "source": [
        "<a href=\"https://colab.research.google.com/github/abnv16/learn_py/blob/main/TASK_14.ipynb\" target=\"_parent\"><img src=\"https://colab.research.google.com/assets/colab-badge.svg\" alt=\"Open In Colab\"/></a>"
      ]
    },
    {
      "cell_type": "markdown",
      "metadata": {
        "id": "pDx7KyZoXYNb"
      },
      "source": [
        "1. Create two arrays, one containing elements [1,2], [3,4] and another containing elements [8,18] Now find the solution for this linear equation."
      ]
    },
    {
      "cell_type": "code",
      "metadata": {
        "id": "1HQu2yB2YMbj",
        "colab": {
          "base_uri": "https://localhost:8080/"
        },
        "outputId": "24fa75f8-3aff-474d-cb8f-7084a0ce8f80"
      },
      "source": [
        "import numpy as np\n",
        " \n",
        " \n",
        "a = np.array([[1, 2], [3, 4]])\n",
        "b = np.array([8,18])\n",
        "x = np.linalg.solve(a, b)\n",
        "print(\"linear equation : \",x)"
      ],
      "execution_count": null,
      "outputs": [
        {
          "output_type": "stream",
          "text": [
            "[2. 3.]\n"
          ],
          "name": "stdout"
        }
      ]
    },
    {
      "cell_type": "markdown",
      "metadata": {
        "id": "RyDr51p8ZxQp"
      },
      "source": [
        "2. Create an array containing elements [2, 3, 4]. Now find the sin,cos,tan values of this array elements."
      ]
    },
    {
      "cell_type": "code",
      "metadata": {
        "id": "iXZByHNOaXbk",
        "colab": {
          "base_uri": "https://localhost:8080/"
        },
        "outputId": "0cc4525b-f9cf-4384-adec-4658f7ac1dd7"
      },
      "source": [
        "import numpy as np\n",
        " \n",
        "a=np.array([2,3,4])\n",
        " \n",
        "sin_value = np.sin(a)\n",
        "cos_value =np.cos(a)\n",
        "tan_value =np.tan(a)\n",
        "print(\"sin : \",sin_value)\n",
        "print(\"cos : \",cos_value)\n",
        "print(\"tan : \",tan_value)"
      ],
      "execution_count": 17,
      "outputs": [
        {
          "output_type": "stream",
          "text": [
            "sin :  [ 0.90929743  0.14112001 -0.7568025 ]\n",
            "cos :  [-0.41614684 -0.9899925  -0.65364362]\n",
            "tan :  [-2.18503986 -0.14254654  1.15782128]\n"
          ],
          "name": "stdout"
        }
      ]
    },
    {
      "cell_type": "markdown",
      "metadata": {
        "id": "Itk2DMc6b60J"
      },
      "source": [
        "3. Given b=[5,6], then find,\n",
        " \n",
        "  a) 2sinb\n",
        "  b) 2cos3b\n",
        "  c) 4tan2b"
      ]
    },
    {
      "cell_type": "code",
      "metadata": {
        "id": "lgxpIaKebw5y",
        "colab": {
          "base_uri": "https://localhost:8080/"
        },
        "outputId": "b3ffe4cc-1e93-42d9-e3b2-b3b08d964eb1"
      },
      "source": [
        "import numpy as np\n",
        " \n",
        "ar=np.array([5,6])\n",
        "b1=3*ar\n",
        "c1=2*ar\n",
        " \n",
        "sin_value=np.sin(ar)\n",
        "cos_value=np.cos(b1)\n",
        "tan_value=np.tan(c1)\n",
        " \n",
        "a=2*sin_value\n",
        "b=2*cos_value\n",
        "c=4*tan_value\n",
        " \n",
        "print(\"2sinb = \",a)\n",
        "print(\"2cos3b = \",b)\n",
        "print(\"4tan2b = \",c)"
      ],
      "execution_count": 19,
      "outputs": [
        {
          "output_type": "stream",
          "text": [
            "2sinb =  [-1.91784855 -0.558831  ]\n",
            "2cos3b =  [-1.51937583  1.32063342]\n",
            "4tan2b =  [ 2.59344331 -2.54343971]\n"
          ],
          "name": "stdout"
        }
      ]
    }
  ]
}