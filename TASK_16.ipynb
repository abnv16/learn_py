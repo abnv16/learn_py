{
  "nbformat": 4,
  "nbformat_minor": 0,
  "metadata": {
    "colab": {
      "name": "TASK 16.ipynb",
      "provenance": [],
      "include_colab_link": true
    },
    "kernelspec": {
      "name": "python3",
      "display_name": "Python 3"
    },
    "language_info": {
      "name": "python"
    }
  },
  "cells": [
    {
      "cell_type": "markdown",
      "metadata": {
        "id": "view-in-github",
        "colab_type": "text"
      },
      "source": [
        "<a href=\"https://colab.research.google.com/github/abnv16/learn_py/blob/main/TASK_16.ipynb\" target=\"_parent\"><img src=\"https://colab.research.google.com/assets/colab-badge.svg\" alt=\"Open In Colab\"/></a>"
      ]
    },
    {
      "cell_type": "markdown",
      "metadata": {
        "id": "acyipYglJ670"
      },
      "source": [
        "1. Given index=[\"India\",\"Pakistan\",\"Bangladesh\",\"Srilanka\",\"china\",\"Nepal\"] and data=[1,3,5,np.nan,6,8] . Create a table with the \"index\" as indices and data as values.\n",
        "\n",
        "      Expected output\n",
        "\n",
        "        India         1.0\n",
        "        Pakistan      3.0\n",
        "        Bangladesh    5.0\n",
        "        Srilanka      NaN\n",
        "        China         6.0\n",
        "        Nepal         8.0\n",
        "        Name: myseries, dtype: float64"
      ]
    },
    {
      "cell_type": "code",
      "metadata": {
        "id": "lk5t2eNkKLwL",
        "colab": {
          "base_uri": "https://localhost:8080/"
        },
        "outputId": "c1973592-f54f-4a00-a450-7e1b21b8b475"
      },
      "source": [
        "import numpy as np\n",
        "import pandas as pd\n",
        "index=[\"India\",\"Pakistan\",\"Bangladesh\",\"Srilanka\",\"china\",\"Nepal\"]\n",
        "data=[1,3,5,np.nan,6,8]\n",
        "print(pd.Series(data,index, name='myseries'))"
      ],
      "execution_count": 1,
      "outputs": [
        {
          "output_type": "stream",
          "name": "stdout",
          "text": [
            "India         1.0\n",
            "Pakistan      3.0\n",
            "Bangladesh    5.0\n",
            "Srilanka      NaN\n",
            "china         6.0\n",
            "Nepal         8.0\n",
            "Name: myseries, dtype: float64\n"
          ]
        }
      ]
    },
    {
      "cell_type": "markdown",
      "metadata": {
        "id": "inxiNv1rLveT"
      },
      "source": [
        "2. Create a data 'dates' starting from 2021-01-01 with range 6. and create a random 6x4 array and a list=('ABCD').now create a dataframe with 'dates' as index and list as the column and data as the datas of this table.\n",
        "\n",
        "\n",
        "  Expected output\n",
        "\n",
        "                        A\t       B\t      C\t      D\n",
        "    2021-01-01\t-0.429358\t0.779826\t0.389625\t0.248792\n",
        "    2021-01-02\t-1.044721\t0.272807\t-0.370437\t1.177273\n",
        "    2021-01-03\t-0.961394\t-0.525376\t0.120843\t0.470060\n",
        "    2021-01-04\t1.842266\t-0.551049\t0.588390\t-0.326937\n",
        "    2021-01-05\t0.986198\t0.391301\t-0.084837\t-0.855573\n",
        "    2021-01-06\t-1.531207\t0.905463\t-0.099024\t0.589219\n",
        "\n"
      ]
    },
    {
      "cell_type": "code",
      "metadata": {
        "id": "TZYBxFJIRYVm",
        "colab": {
          "base_uri": "https://localhost:8080/",
          "height": 234
        },
        "outputId": "9d2e5edf-575e-4fd4-8778-20e132899c7b"
      },
      "source": [
        "import numpy as np\n",
        "import pandas as pd\n",
        "dates = pd.date_range('2021-01-01',periods=6)\n",
        "df = pd.DataFrame(np.random.randn(6,4),index=dates,columns=list('ABCD'))\n",
        "df"
      ],
      "execution_count": 2,
      "outputs": [
        {
          "output_type": "execute_result",
          "data": {
            "text/html": [
              "<div>\n",
              "<style scoped>\n",
              "    .dataframe tbody tr th:only-of-type {\n",
              "        vertical-align: middle;\n",
              "    }\n",
              "\n",
              "    .dataframe tbody tr th {\n",
              "        vertical-align: top;\n",
              "    }\n",
              "\n",
              "    .dataframe thead th {\n",
              "        text-align: right;\n",
              "    }\n",
              "</style>\n",
              "<table border=\"1\" class=\"dataframe\">\n",
              "  <thead>\n",
              "    <tr style=\"text-align: right;\">\n",
              "      <th></th>\n",
              "      <th>A</th>\n",
              "      <th>B</th>\n",
              "      <th>C</th>\n",
              "      <th>D</th>\n",
              "    </tr>\n",
              "  </thead>\n",
              "  <tbody>\n",
              "    <tr>\n",
              "      <th>2021-01-01</th>\n",
              "      <td>-1.769962</td>\n",
              "      <td>-0.156304</td>\n",
              "      <td>0.155304</td>\n",
              "      <td>-0.313704</td>\n",
              "    </tr>\n",
              "    <tr>\n",
              "      <th>2021-01-02</th>\n",
              "      <td>1.864176</td>\n",
              "      <td>0.750502</td>\n",
              "      <td>0.617547</td>\n",
              "      <td>-0.003126</td>\n",
              "    </tr>\n",
              "    <tr>\n",
              "      <th>2021-01-03</th>\n",
              "      <td>0.539845</td>\n",
              "      <td>0.314440</td>\n",
              "      <td>0.009833</td>\n",
              "      <td>0.177920</td>\n",
              "    </tr>\n",
              "    <tr>\n",
              "      <th>2021-01-04</th>\n",
              "      <td>1.224442</td>\n",
              "      <td>0.101729</td>\n",
              "      <td>-0.369847</td>\n",
              "      <td>2.005651</td>\n",
              "    </tr>\n",
              "    <tr>\n",
              "      <th>2021-01-05</th>\n",
              "      <td>0.744340</td>\n",
              "      <td>1.410646</td>\n",
              "      <td>-0.713898</td>\n",
              "      <td>-1.697354</td>\n",
              "    </tr>\n",
              "    <tr>\n",
              "      <th>2021-01-06</th>\n",
              "      <td>-0.718635</td>\n",
              "      <td>-1.257092</td>\n",
              "      <td>0.886848</td>\n",
              "      <td>1.411444</td>\n",
              "    </tr>\n",
              "  </tbody>\n",
              "</table>\n",
              "</div>"
            ],
            "text/plain": [
              "                   A         B         C         D\n",
              "2021-01-01 -1.769962 -0.156304  0.155304 -0.313704\n",
              "2021-01-02  1.864176  0.750502  0.617547 -0.003126\n",
              "2021-01-03  0.539845  0.314440  0.009833  0.177920\n",
              "2021-01-04  1.224442  0.101729 -0.369847  2.005651\n",
              "2021-01-05  0.744340  1.410646 -0.713898 -1.697354\n",
              "2021-01-06 -0.718635 -1.257092  0.886848  1.411444"
            ]
          },
          "metadata": {},
          "execution_count": 2
        }
      ]
    }
  ]
}