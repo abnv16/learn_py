{
  "nbformat": 4,
  "nbformat_minor": 0,
  "metadata": {
    "colab": {
      "name": "TASK  7.ipynb",
      "provenance": [],
      "include_colab_link": true
    },
    "kernelspec": {
      "name": "python3",
      "display_name": "Python 3"
    },
    "language_info": {
      "name": "python"
    }
  },
  "cells": [
    {
      "cell_type": "markdown",
      "metadata": {
        "id": "view-in-github",
        "colab_type": "text"
      },
      "source": [
        "<a href=\"https://colab.research.google.com/github/abnv16/learn_py/blob/main/TASK_7.ipynb\" target=\"_parent\"><img src=\"https://colab.research.google.com/assets/colab-badge.svg\" alt=\"Open In Colab\"/></a>"
      ]
    },
    {
      "cell_type": "markdown",
      "metadata": {
        "id": "b0V3vwzcydKy"
      },
      "source": [
        "1. Write a program to check whether a  string is palindrome or not using functions. \n",
        "\n",
        "   ( A function is to be created to check whether the string is palindrome and it should give the output true or false to the main program)"
      ]
    },
    {
      "cell_type": "code",
      "metadata": {
        "id": "M2Mi7EOdyxiu"
      },
      "source": [
        "def Palindrome(str):\n",
        "    for i in range(0, int(len(str)/2)): \n",
        "        if str[i] != str[len(str)-i-1]:\n",
        "            return False\n",
        "    return True\n",
        "s = str(input(\"input string :\"))\n",
        "print (s)\n",
        "ans = Palindrome(s)\n",
        " \n",
        "if (ans):\n",
        "    print(s,\"is palindrome\")\n",
        "else:\n",
        "    print(s,\"is not palindrome\")\n"
      ],
      "execution_count": null,
      "outputs": []
    },
    {
      "cell_type": "markdown",
      "metadata": {
        "id": "vSiShTyOzEz-"
      },
      "source": [
        "2.  Write a menu driven program to find largest element in L, smallest element, avg of all values, sum of all values in L. All these operation should be performed in different functions and the result should be returned.\n",
        "\n",
        "\n",
        "      L=[23,24,11,90,1,41,9,99,28,56,72]"
      ]
    },
    {
      "cell_type": "code",
      "metadata": {
        "id": "fRtMIw_CzsmO",
        "outputId": "6b87db22-1ed5-40be-8e7d-3b83230e09b5",
        "colab": {
          "base_uri": "https://localhost:8080/"
        }
      },
      "source": [
        "\n",
        "def small(L):\n",
        "    L.sort()\n",
        "    print(\"smallest = \",*L[:1])\n",
        "\n",
        "def large(L):\n",
        "    L.sort()\n",
        "    print(\"largest = \",L[-1])\n",
        "\n",
        "def sumofnum(L):\n",
        "    print(\"sum = \",sum(L))\n",
        "\n",
        "def avg(L):\n",
        "    avg=sum(L)/len(L)\n",
        "    print(\"average = \",avg)\n",
        "\n",
        "\n",
        "L=[23,24,11,90,1,41,9,99,28,56,72]\n",
        "\n",
        "n=int(input(\"1.Largest among number\\n2.Smallest among number \\n3.Sum of numbers\\n4.Average of numbers\\n5.Print all values\\n\"))\n",
        "\n",
        "if n==1:\n",
        "    large(L)\n",
        "elif(n==2):\n",
        "    small(L)\n",
        "elif(n==3):\n",
        "    sumofnum(L)\n",
        "elif(n==4):\n",
        "    avg(L)\n",
        "elif(n==5):\n",
        "    large(L)\n",
        "    small(L)\n",
        "    sumofnum(L)\n",
        "    avg(L)\n",
        "else:\n",
        "    print(\"Enter valid option\")"
      ],
      "execution_count": 1,
      "outputs": [
        {
          "output_type": "stream",
          "name": "stdout",
          "text": [
            "1.Largest among number\n",
            "2.Smallest among number \n",
            "3.Sum of numbers\n",
            "4.Average of numbers\n",
            "5.Print all values\n",
            "5\n",
            "largest =  99\n",
            "smallest =  1\n",
            "sum =  454\n",
            "average =  41.27272727272727\n"
          ]
        }
      ]
    }
  ]
}