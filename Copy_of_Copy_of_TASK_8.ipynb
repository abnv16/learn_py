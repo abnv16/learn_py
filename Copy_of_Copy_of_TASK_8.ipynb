{
  "nbformat": 4,
  "nbformat_minor": 0,
  "metadata": {
    "colab": {
      "name": "Copy of Copy of TASK 8.ipynb",
      "provenance": [],
      "collapsed_sections": [],
      "include_colab_link": true
    },
    "kernelspec": {
      "name": "python3",
      "display_name": "Python 3"
    },
    "language_info": {
      "name": "python"
    }
  },
  "cells": [
    {
      "cell_type": "markdown",
      "metadata": {
        "id": "view-in-github",
        "colab_type": "text"
      },
      "source": [
        "<a href=\"https://colab.research.google.com/github/abnv16/learn_py/blob/main/Copy_of_Copy_of_TASK_8.ipynb\" target=\"_parent\"><img src=\"https://colab.research.google.com/assets/colab-badge.svg\" alt=\"Open In Colab\"/></a>"
      ]
    },
    {
      "cell_type": "markdown",
      "metadata": {
        "id": "slsGswYbJSo7"
      },
      "source": [
        "1. Generate a 3 x 3 matrix using random module."
      ]
    },
    {
      "cell_type": "code",
      "metadata": {
        "id": "GGRQSYyNJW9t",
        "colab": {
          "base_uri": "https://localhost:8080/"
        },
        "outputId": "46fbb5a3-35ee-4941-8254-b24e8b7c2e2a"
      },
      "source": [
        "import numpy as np\n",
        "import random\n",
        " \n",
        " \n",
        "matrix = np.random.randint(100, size=(3, 3))\n",
        "print(matrix)"
      ],
      "execution_count": null,
      "outputs": [
        {
          "output_type": "stream",
          "text": [
            "[[79 47 67]\n",
            " [27 28 47]\n",
            " [ 5 85 81]]\n"
          ],
          "name": "stdout"
        }
      ]
    },
    {
      "cell_type": "markdown",
      "metadata": {
        "id": "4OB9KFX6JfYA"
      },
      "source": [
        "2. Generate two 4 x 4 matrix using numpy and \n",
        "\n",
        " a) Reshape it to 2 x 8matrix and vertically stack it.\n",
        "\n",
        " b) Reshape it to 2 x 8 matrix and horizontally stack it."
      ]
    },
    {
      "cell_type": "code",
      "metadata": {
        "id": "VoIqYeNWJ4H_",
        "colab": {
          "base_uri": "https://localhost:8080/"
        },
        "outputId": "d9113c2d-e844-4448-bb8b-b3a5c240fb65"
      },
      "source": [
        "import numpy as np\n",
        "import random\n",
        " \n",
        "array = np.random.randint(100, size=(4, 4))\n",
        "print(\"4x4 matrix : \",array)\n",
        "newarr=array.reshape(2,8)\n",
        "print(\"2x8 matrix : \",newarr)\n",
        "ho=np.hstack(newarr)\n",
        "ve=np.vstack(newarr)\n",
        " \n",
        "print(\"horizontal stack :\",ho)\n",
        "print(\"vertical stack :\",ve)"
      ],
      "execution_count": 3,
      "outputs": [
        {
          "output_type": "stream",
          "text": [
            "4x4 matrix :  [[60 15 95  4]\n",
            " [54 84 77 83]\n",
            " [54 67 46 48]\n",
            " [11  9 49 49]]\n",
            "2x8 matrix :  [[60 15 95  4 54 84 77 83]\n",
            " [54 67 46 48 11  9 49 49]]\n",
            "horizontal stack : [60 15 95  4 54 84 77 83 54 67 46 48 11  9 49 49]\n",
            "vertical stack : [[60 15 95  4 54 84 77 83]\n",
            " [54 67 46 48 11  9 49 49]]\n"
          ],
          "name": "stdout"
        }
      ]
    }
  ]
}