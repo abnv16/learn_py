{
  "nbformat": 4,
  "nbformat_minor": 0,
  "metadata": {
    "colab": {
      "name": "Copy of TASK 19.ipynb",
      "provenance": [],
      "include_colab_link": true
    },
    "kernelspec": {
      "name": "python3",
      "display_name": "Python 3"
    },
    "language_info": {
      "name": "python"
    }
  },
  "cells": [
    {
      "cell_type": "markdown",
      "metadata": {
        "id": "view-in-github",
        "colab_type": "text"
      },
      "source": [
        "<a href=\"https://colab.research.google.com/github/abnv16/learn_py/blob/main/TASK_19.ipynb\" target=\"_parent\"><img src=\"https://colab.research.google.com/assets/colab-badge.svg\" alt=\"Open In Colab\"/></a>"
      ]
    },
    {
      "cell_type": "markdown",
      "metadata": {
        "id": "6J-6GvX2JUcC"
      },
      "source": [
        "1. Create a DataFrame by passing a random numpy array,with a dateted index and labelled columns and display,\n",
        "  - where values of the column A is greater than 0.\n",
        "  - where values of the columns A is greater than 0 and B greater than -1.\n",
        "  - where values of the columns A  is greater than 0 or B greater than -1.\n"
      ]
    },
    {
      "cell_type": "code",
      "metadata": {
        "id": "xX-5VikpLcHL",
        "colab": {
          "base_uri": "https://localhost:8080/"
        },
        "outputId": "5d18a34a-4338-4392-8bb8-e109daaee356"
      },
      "source": [
        "import numpy as np\n",
        "import pandas as pd\n",
        "datetie = pd.date_range('2021-08-31',periods=8)\n",
        "df = pd.DataFrame(np.random.randn(8,5), index=datetie, columns=list('ABCDE'))\n",
        "print(\"Dataframe :\\n\",df)\n",
        "print(\"\\nValues of the column A is greater than 0:\\n\",df[df['A']>0])\n",
        "print(\"\\nValues of the columns A is greater than 0 and B greater than -1:\\n\",df[(df['A']>0) & (df['B']>-1)])\n",
        "print(\"\\nValues of the columns A is greater than 0 or B greater than -1:\\n\",df[(df['A']>0) | (df['B']>-1)])"
      ],
      "execution_count": 1,
      "outputs": [
        {
          "output_type": "stream",
          "name": "stdout",
          "text": [
            "Dataframe :\n",
            "                    A         B         C         D         E\n",
            "2021-08-31 -1.432767  0.825172 -0.057259 -0.378281 -2.980116\n",
            "2021-09-01 -0.816311  1.239460 -0.706418 -0.124805  0.359076\n",
            "2021-09-02  0.396208 -0.915534 -1.091527 -1.196448  0.129612\n",
            "2021-09-03 -0.066153 -0.449559 -1.178984  1.062361 -2.641169\n",
            "2021-09-04 -1.149850 -1.241170 -0.738540  0.410082  0.964606\n",
            "2021-09-05  0.070356 -0.517180  1.097211 -1.269270 -0.883032\n",
            "2021-09-06  0.167313  2.141544 -0.352119 -1.356091  0.407692\n",
            "2021-09-07 -0.003669  0.220126  0.342454  0.776848 -0.275137\n",
            "\n",
            "Values of the column A is greater than 0:\n",
            "                    A         B         C         D         E\n",
            "2021-09-02  0.396208 -0.915534 -1.091527 -1.196448  0.129612\n",
            "2021-09-05  0.070356 -0.517180  1.097211 -1.269270 -0.883032\n",
            "2021-09-06  0.167313  2.141544 -0.352119 -1.356091  0.407692\n",
            "\n",
            "Values of the columns A is greater than 0 and B greater than -1:\n",
            "                    A         B         C         D         E\n",
            "2021-09-02  0.396208 -0.915534 -1.091527 -1.196448  0.129612\n",
            "2021-09-05  0.070356 -0.517180  1.097211 -1.269270 -0.883032\n",
            "2021-09-06  0.167313  2.141544 -0.352119 -1.356091  0.407692\n",
            "\n",
            "Values of the columns A is greater than 0 or B greater than -1:\n",
            "                    A         B         C         D         E\n",
            "2021-08-31 -1.432767  0.825172 -0.057259 -0.378281 -2.980116\n",
            "2021-09-01 -0.816311  1.239460 -0.706418 -0.124805  0.359076\n",
            "2021-09-02  0.396208 -0.915534 -1.091527 -1.196448  0.129612\n",
            "2021-09-03 -0.066153 -0.449559 -1.178984  1.062361 -2.641169\n",
            "2021-09-05  0.070356 -0.517180  1.097211 -1.269270 -0.883032\n",
            "2021-09-06  0.167313  2.141544 -0.352119 -1.356091  0.407692\n",
            "2021-09-07 -0.003669  0.220126  0.342454  0.776848 -0.275137\n"
          ]
        }
      ]
    },
    {
      "cell_type": "markdown",
      "metadata": {
        "id": "1WAf9SbwLp6o"
      },
      "source": [
        "2. Create a DataFrame by passing a random numpy array,with a dateted index and labelled columns and check if ,\n",
        "  - the values of the table are greater the zero or not.\n",
        "  - the value at the postion (0,0) is equal to NaN or not."
      ]
    },
    {
      "cell_type": "code",
      "metadata": {
        "id": "rBrt8pMeM2Q5",
        "colab": {
          "base_uri": "https://localhost:8080/"
        },
        "outputId": "e013797c-d7fa-44f2-c84d-61a624c5d3b9"
      },
      "source": [
        "import numpy as np\n",
        "import pandas as pd\n",
        "datetie = pd.date_range('2021-08-31',periods=8)\n",
        "df = pd.DataFrame(np.random.randn(8,5), index=datetie, columns=list('ABCDE'))\n",
        "print(df)\n",
        "print(\"\\nValues greater the zero or not:\\n\",df>0)\n",
        "print(\"\\nValue at the postion (0,0) is equal to NaN or not:\\n\",df.iloc[[0],[0]] == 'NaN')\n"
      ],
      "execution_count": null,
      "outputs": [
        {
          "output_type": "stream",
          "name": "stdout",
          "text": [
            "                   A         B         C         D         E\n",
            "2021-08-31 -0.703746  0.849282  3.124192 -0.096514  0.725972\n",
            "2021-09-01 -2.169738  1.096088 -0.909963  0.922456  2.161447\n",
            "2021-09-02 -1.907508  1.414352 -0.509028 -0.546544 -1.788568\n",
            "2021-09-03  1.092774 -0.229482 -1.447700 -0.503279  0.448374\n",
            "2021-09-04 -0.546347  1.110928  2.515169 -0.857653  1.676491\n",
            "2021-09-05 -0.276919 -0.112241  1.042103  0.088288  0.507696\n",
            "2021-09-06  2.061687  2.045955  1.435736 -0.026838  0.594029\n",
            "2021-09-07 -0.373520  0.096704 -0.035856 -0.062124  1.201686\n",
            "\n",
            "Values greater the zero or not:\n",
            "                 A      B      C      D      E\n",
            "2021-08-31  False   True   True  False   True\n",
            "2021-09-01  False   True  False   True   True\n",
            "2021-09-02  False   True  False  False  False\n",
            "2021-09-03   True  False  False  False   True\n",
            "2021-09-04  False   True   True  False   True\n",
            "2021-09-05  False  False   True   True   True\n",
            "2021-09-06   True   True   True  False   True\n",
            "2021-09-07  False   True  False  False   True\n",
            "\n",
            "Value at the postion (0,0) is equal to NaN or not:\n",
            "                 A\n",
            "2021-08-31  False\n"
          ]
        }
      ]
    },
    {
      "cell_type": "markdown",
      "metadata": {
        "id": "IfM9XYmiNaKB"
      },
      "source": [
        "3. Create a DataFrame by passing a random numpy array,with a dateted index and labelled columns and,\n",
        "  - reindex the index with even dates.\n",
        "  - create a column with values NaN.\n",
        "  - make the values of the first two index of the newly created column as 1"
      ]
    },
    {
      "cell_type": "code",
      "metadata": {
        "id": "F-w8kEfaORg3",
        "colab": {
          "base_uri": "https://localhost:8080/"
        },
        "outputId": "d8dce372-2cd7-4f93-a30b-6076109e1213"
      },
      "source": [
        "import numpy as np\n",
        "import pandas as pd\n",
        "datetie = pd.date_range('2021-08-2',periods=8)\n",
        "df = pd.DataFrame(np.random.randn(8,5), index=datetie, columns=list('ABCDE'))\n",
        "print(df)\n",
        "df1 = df.reindex(df.index[0::2])\n",
        "print(\"\\nIndex with even dates:\\n\",df1)\n",
        "df1['F'] = 'NaN'\n",
        "print(\"\\nNew column with values NaN:\\n\",df1)\n",
        "df1.loc[df1.index[:2],'F'] = 1\n",
        "print(\"\\nFirst two index of the newly created column as 1:\\n\",df1)"
      ],
      "execution_count": 6,
      "outputs": [
        {
          "output_type": "stream",
          "name": "stdout",
          "text": [
            "                   A         B         C         D         E\n",
            "2021-08-02  0.516335  0.896879 -0.018571 -0.841936 -0.860522\n",
            "2021-08-03  1.342731  0.415606  0.333536  0.026701  0.079890\n",
            "2021-08-04 -0.900958  0.560309  1.253315 -0.963454 -0.437963\n",
            "2021-08-05 -0.173490  0.407930 -0.787304 -0.484239 -0.719293\n",
            "2021-08-06  1.281253  1.292006  1.079926  0.765171  1.239504\n",
            "2021-08-07  0.692530  0.899109  0.636715  0.502546  0.813580\n",
            "2021-08-08 -1.418058 -0.385620  1.741070 -0.683914  1.762137\n",
            "2021-08-09  1.386619  0.217462 -1.343346  0.305863 -0.109085\n",
            "\n",
            "Index with even dates:\n",
            "                    A         B         C         D         E\n",
            "2021-08-02  0.516335  0.896879 -0.018571 -0.841936 -0.860522\n",
            "2021-08-04 -0.900958  0.560309  1.253315 -0.963454 -0.437963\n",
            "2021-08-06  1.281253  1.292006  1.079926  0.765171  1.239504\n",
            "2021-08-08 -1.418058 -0.385620  1.741070 -0.683914  1.762137\n",
            "\n",
            "New column with values NaN:\n",
            "                    A         B         C         D         E    F\n",
            "2021-08-02  0.516335  0.896879 -0.018571 -0.841936 -0.860522  NaN\n",
            "2021-08-04 -0.900958  0.560309  1.253315 -0.963454 -0.437963  NaN\n",
            "2021-08-06  1.281253  1.292006  1.079926  0.765171  1.239504  NaN\n",
            "2021-08-08 -1.418058 -0.385620  1.741070 -0.683914  1.762137  NaN\n",
            "\n",
            "First two index of the newly created column as 1:\n",
            "                    A         B         C         D         E    F\n",
            "2021-08-02  0.516335  0.896879 -0.018571 -0.841936 -0.860522    1\n",
            "2021-08-04 -0.900958  0.560309  1.253315 -0.963454 -0.437963    1\n",
            "2021-08-06  1.281253  1.292006  1.079926  0.765171  1.239504  NaN\n",
            "2021-08-08 -1.418058 -0.385620  1.741070 -0.683914  1.762137  NaN\n"
          ]
        }
      ]
    }
  ]
}