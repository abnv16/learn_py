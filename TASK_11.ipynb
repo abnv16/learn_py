{
  "nbformat": 4,
  "nbformat_minor": 0,
  "metadata": {
    "colab": {
      "name": "Copy of TASK 11.ipynb",
      "provenance": [],
      "include_colab_link": true
    },
    "kernelspec": {
      "name": "python3",
      "display_name": "Python 3"
    },
    "language_info": {
      "name": "python"
    }
  },
  "cells": [
    {
      "cell_type": "markdown",
      "metadata": {
        "id": "view-in-github",
        "colab_type": "text"
      },
      "source": [
        "<a href=\"https://colab.research.google.com/github/abnv16/learn_py/blob/main/TASK_11.ipynb\" target=\"_parent\"><img src=\"https://colab.research.google.com/assets/colab-badge.svg\" alt=\"Open In Colab\"/></a>"
      ]
    },
    {
      "cell_type": "markdown",
      "metadata": {
        "id": "Ud2gZIbu6E59"
      },
      "source": [
        "N.B: Please find the answers by applying the functions on the matrices"
      ]
    },
    {
      "cell_type": "markdown",
      "metadata": {
        "id": "_9JX1Vdn4sTN"
      },
      "source": [
        "1. Create 2 3×3 matrix with 0-8 and 10-19 as elements in each and perform the vectorize multiplication operations on the matrices.(Outer product, Dot product, Element wise product)."
      ]
    },
    {
      "cell_type": "code",
      "metadata": {
        "id": "aBzAn6Z75VQ6",
        "colab": {
          "base_uri": "https://localhost:8080/"
        },
        "outputId": "21331eb9-c576-4a96-d9b2-b370ae7e85df"
      },
      "source": [
        " import numpy as np\n",
        " \n",
        "array=np.arange(0,9)\n",
        "arr1=array.reshape(3,3)\n",
        "print (\"array 1: \",arr1)\n",
        " \n",
        "array2=np.arange(10,19)\n",
        "arr2=array2.reshape(3,3)\n",
        "print (\"array 2 :\",arr2)\n",
        " \n",
        "out=np.outer(arr1,arr2)\n",
        "print(\"Outer product:\\n\",out)\n",
        " \n",
        "dot=np.dot(arr1,arr2)\n",
        "print(\"dot product : \\n\",dot)\n",
        " \n",
        "multi=np.multiply(arr1,arr2)\n",
        "print(\"element wise product :\\n\",multi)"
      ],
      "execution_count": null,
      "outputs": [
        {
          "output_type": "stream",
          "text": [
            "array 1:  [[0 1 2]\n",
            " [3 4 5]\n",
            " [6 7 8]]\n",
            "array 2 : [[10 11 12]\n",
            " [13 14 15]\n",
            " [16 17 18]]\n",
            "Outer product:\n",
            " [[  0   0   0   0   0   0   0   0   0]\n",
            " [ 10  11  12  13  14  15  16  17  18]\n",
            " [ 20  22  24  26  28  30  32  34  36]\n",
            " [ 30  33  36  39  42  45  48  51  54]\n",
            " [ 40  44  48  52  56  60  64  68  72]\n",
            " [ 50  55  60  65  70  75  80  85  90]\n",
            " [ 60  66  72  78  84  90  96 102 108]\n",
            " [ 70  77  84  91  98 105 112 119 126]\n",
            " [ 80  88  96 104 112 120 128 136 144]]\n",
            "dot product : \n",
            " [[ 45  48  51]\n",
            " [162 174 186]\n",
            " [279 300 321]]\n",
            "element wise product :\n",
            " [[  0  11  24]\n",
            " [ 39  56  75]\n",
            " [ 96 119 144]]\n"
          ],
          "name": "stdout"
        }
      ]
    },
    {
      "cell_type": "markdown",
      "metadata": {
        "id": "gJGtIjx25k92"
      },
      "source": [
        "2. Create a 4×4 matrix with 0-16  as elements in it. Add a scalar 4 to the matrix and also multiply it with [1,2,3,4] 1-D matrix by broadcasting. ( Please note to do both the addition and multiplication by broadcasting.)"
      ]
    },
    {
      "cell_type": "code",
      "metadata": {
        "id": "H7cznh8M56r-",
        "colab": {
          "base_uri": "https://localhost:8080/"
        },
        "outputId": "26a91f0c-06c7-45ff-f8aa-dbfbcef99076"
      },
      "source": [
        "import numpy as np\n",
        " \n",
        "arr=np.arange (0,16)\n",
        "arr1=arr.reshape(4,4)\n",
        "print(arr1)\n",
        " \n",
        "ad=arr1+4\n",
        "print(\"add :\\n\",ad)\n",
        " \n",
        "arr2=[1,2,3,4]\n",
        "multi=arr1*arr2\n",
        "print (\"multiplication : \\n\",multi)"
      ],
      "execution_count": 18,
      "outputs": [
        {
          "output_type": "stream",
          "text": [
            "[[ 0  1  2  3]\n",
            " [ 4  5  6  7]\n",
            " [ 8  9 10 11]\n",
            " [12 13 14 15]]\n",
            "add :\n",
            " [[ 4  5  6  7]\n",
            " [ 8  9 10 11]\n",
            " [12 13 14 15]\n",
            " [16 17 18 19]]\n",
            "multiplication : \n",
            " [[ 0  2  6 12]\n",
            " [ 4 10 18 28]\n",
            " [ 8 18 30 44]\n",
            " [12 26 42 60]]\n"
          ],
          "name": "stdout"
        }
      ]
    }
  ]
}