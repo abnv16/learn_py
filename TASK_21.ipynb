{
  "nbformat": 4,
  "nbformat_minor": 0,
  "metadata": {
    "colab": {
      "name": "TASK 21.ipynb",
      "provenance": [],
      "include_colab_link": true
    },
    "kernelspec": {
      "name": "python3",
      "display_name": "Python 3"
    },
    "language_info": {
      "name": "python"
    }
  },
  "cells": [
    {
      "cell_type": "markdown",
      "metadata": {
        "id": "view-in-github",
        "colab_type": "text"
      },
      "source": [
        "<a href=\"https://colab.research.google.com/github/abnv16/learn_py/blob/main/TASK_21.ipynb\" target=\"_parent\"><img src=\"https://colab.research.google.com/assets/colab-badge.svg\" alt=\"Open In Colab\"/></a>"
      ]
    },
    {
      "cell_type": "markdown",
      "metadata": {
        "id": "wK9sv7fHTnyo"
      },
      "source": [
        "1.  Using the dataset given below,\n",
        "  - Group the given dataset by A and find the sum of the groups.\n",
        "  - Find the 3 least elements from the column D\n",
        "  - Find the 3 largest elements from the Column D which belongs to the group\n",
        "  'bar'."
      ]
    },
    {
      "cell_type": "code",
      "metadata": {
        "id": "C_Kq4i_rVNyB",
        "outputId": "3afba413-d43f-4b0b-b8d1-bbe6bcc7430c",
        "colab": {
          "base_uri": "https://localhost:8080/"
        }
      },
      "source": [
        "import pandas as pd\n",
        "import numpy as np\n",
        "df = pd.DataFrame({'A' : ['foo', 'bar', 'foo', 'bar',\n",
        "                          'foo', 'bar', 'foo', 'foo'],\n",
        "                   'B' : ['one', 'one', 'two', 'three',\n",
        "                          'two', 'two', 'one', 'three'],\n",
        "                   'C' : np.random.randn(8),\n",
        "                   'D' : np.random.randn(8)})\n",
        "df\n",
        "#please type your code below this line.\n",
        "group = df.groupby('A')\n",
        "print(\"sum of the groups:\\n\",group.sum())\n",
        "print(\"3 least elements from the column D:\\n\",df['D'].nsmallest(3))\n",
        "print(\"3 largest elements from the Column D which belongs to the group 'bar':\\n\",group['D'].get_group('bar').nlargest(3))"
      ],
      "execution_count": 4,
      "outputs": [
        {
          "output_type": "stream",
          "name": "stdout",
          "text": [
            "sum of the groups:\n",
            "             C         D\n",
            "A                      \n",
            "bar  1.276562  0.762977\n",
            "foo  1.048183 -4.724801\n",
            "3 least elements from the column D:\n",
            " 6   -1.877658\n",
            "0   -1.450289\n",
            "2   -1.382578\n",
            "Name: D, dtype: float64\n",
            "3 largest elements from the Column D which belongs to the group 'bar':\n",
            " 5    1.317123\n",
            "3   -0.137531\n",
            "1   -0.416615\n",
            "Name: D, dtype: float64\n"
          ]
        }
      ]
    },
    {
      "cell_type": "markdown",
      "metadata": {
        "id": "68XLHGsrdHXb"
      },
      "source": [
        "2. Using the dataset given below,\n",
        "  - convert the dataset into a csv file.\n",
        "  - read the csv file just saved\n",
        "  - covert the dataset into a excel file.\n",
        "  - read the excel file just saved."
      ]
    },
    {
      "cell_type": "code",
      "metadata": {
        "id": "J4BOx3UZdVLV",
        "outputId": "60e773e9-d91f-405b-850a-9982eedd14db",
        "colab": {
          "base_uri": "https://localhost:8080/"
        }
      },
      "source": [
        "import pandas as pd\n",
        "import numpy as np\n",
        "df = pd.DataFrame({'A' : ['foo', 'bar', 'foo', 'bar',\n",
        "                          'foo', 'bar', 'foo', 'foo'],\n",
        "                   'B' : ['one', 'one', 'two', 'three',\n",
        "                          'two', 'two', 'one', 'three'],\n",
        "                   'C' : np.random.randn(8),\n",
        "                   'D' : np.random.randn(8)})\n",
        "#please type your code below this line.\n",
        "print(df)\n",
        "df.to_csv('csvFile.csv')\n",
        "print(\"CSS FILE:\\n\", pd.read_csv('csvFile.csv'))\n",
        "df.to_excel('excelFile.xlsx')\n",
        "print(\"EXCEL FILE:\\n\",pd.read_excel('excelFile.xlsx'))"
      ],
      "execution_count": 3,
      "outputs": [
        {
          "output_type": "stream",
          "name": "stdout",
          "text": [
            "     A      B         C         D\n",
            "0  foo    one  1.229640  0.784217\n",
            "1  bar    one -0.501787 -0.777171\n",
            "2  foo    two  0.075230 -2.181312\n",
            "3  bar  three  0.820308  1.315625\n",
            "4  foo    two  0.378878 -0.069873\n",
            "5  bar    two -0.097605  0.013421\n",
            "6  foo    one  0.611922  0.733334\n",
            "7  foo  three  1.114059 -1.423192\n",
            "CSS FILE:\n",
            "    Unnamed: 0    A      B         C         D\n",
            "0           0  foo    one  1.229640  0.784217\n",
            "1           1  bar    one -0.501787 -0.777171\n",
            "2           2  foo    two  0.075230 -2.181312\n",
            "3           3  bar  three  0.820308  1.315625\n",
            "4           4  foo    two  0.378878 -0.069873\n",
            "5           5  bar    two -0.097605  0.013421\n",
            "6           6  foo    one  0.611922  0.733334\n",
            "7           7  foo  three  1.114059 -1.423192\n",
            "EXCEL FILE:\n",
            "    Unnamed: 0    A      B         C         D\n",
            "0           0  foo    one  1.229640  0.784217\n",
            "1           1  bar    one -0.501787 -0.777171\n",
            "2           2  foo    two  0.075230 -2.181312\n",
            "3           3  bar  three  0.820308  1.315625\n",
            "4           4  foo    two  0.378878 -0.069873\n",
            "5           5  bar    two -0.097605  0.013421\n",
            "6           6  foo    one  0.611922  0.733334\n",
            "7           7  foo  three  1.114059 -1.423192\n"
          ]
        }
      ]
    }
  ]
}