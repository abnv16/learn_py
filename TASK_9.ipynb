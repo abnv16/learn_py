{
  "nbformat": 4,
  "nbformat_minor": 0,
  "metadata": {
    "colab": {
      "name": "Copy of TASK 9.ipynb",
      "provenance": [],
      "include_colab_link": true
    },
    "kernelspec": {
      "name": "python3",
      "display_name": "Python 3"
    },
    "language_info": {
      "name": "python"
    }
  },
  "cells": [
    {
      "cell_type": "markdown",
      "metadata": {
        "id": "view-in-github",
        "colab_type": "text"
      },
      "source": [
        "<a href=\"https://colab.research.google.com/github/abnv16/learn_py/blob/main/TASK_9.ipynb\" target=\"_parent\"><img src=\"https://colab.research.google.com/assets/colab-badge.svg\" alt=\"Open In Colab\"/></a>"
      ]
    },
    {
      "cell_type": "markdown",
      "metadata": {
        "id": "CBOQ3rFElEb0"
      },
      "source": [
        "1. Create an 4x4 array containing the values ranging from 0 - 15 (use arange function). Then ,\n",
        "  \n",
        "  a) split it equally along horizontal.\n",
        "\n",
        "  b) split it as 4 parts vertically.\n",
        "\n"
      ]
    },
    {
      "cell_type": "code",
      "metadata": {
        "id": "pKy4fjS_m3XD",
        "colab": {
          "base_uri": "https://localhost:8080/"
        },
        "outputId": "964234b5-e056-49a5-cc36-bae5998e2ddb"
      },
      "source": [
        "import numpy as np\n",
        "import random\n",
        " \n",
        "array=np.arange(0,16)\n",
        "arr2=array.reshape(4,4)\n",
        "print (arr2)\n",
        " \n",
        "arrh=np.hsplit(arr2,2)\n",
        "print (\"horizontal split\" ,arrh)\n",
        " \n",
        "arrv=np.vsplit (arr2,4)\n",
        "print (\"vertical split\",arrv)"
      ],
      "execution_count": null,
      "outputs": [
        {
          "output_type": "stream",
          "text": [
            "[[ 0  1  2  3]\n",
            " [ 4  5  6  7]\n",
            " [ 8  9 10 11]\n",
            " [12 13 14 15]]\n",
            "horizontal split [array([[ 0,  1],\n",
            "       [ 4,  5],\n",
            "       [ 8,  9],\n",
            "       [12, 13]]), array([[ 2,  3],\n",
            "       [ 6,  7],\n",
            "       [10, 11],\n",
            "       [14, 15]])]\n",
            "vertical split [array([[0, 1, 2, 3]]), array([[4, 5, 6, 7]]), array([[ 8,  9, 10, 11]]), array([[12, 13, 14, 15]])]\n"
          ],
          "name": "stdout"
        }
      ]
    },
    {
      "cell_type": "markdown",
      "metadata": {
        "id": "ORtqWRAeoMvn"
      },
      "source": [
        "2. Create a 3x3 matrix using random module and then,\n",
        "\n",
        "  a) Find the ceil of the matrix.\n",
        "  \n",
        "  b) Find the floor of the matrix."
      ]
    },
    {
      "cell_type": "code",
      "metadata": {
        "id": "kt_CO_v9qpU-",
        "colab": {
          "base_uri": "https://localhost:8080/"
        },
        "outputId": "6b533af1-4c65-442b-c061-7a84d51160ef"
      },
      "source": [
        " \n",
        "import numpy as np\n",
        "import random\n",
        " \n",
        " \n",
        "arr = np.random.rand(3, 3)\n",
        "print(\"3x3 matrix\", arr)\n",
        "arr2=np.ceil(arr)\n",
        "print (\"ceil\",arr2)\n",
        " \n",
        "arr3=np.floor(arr)\n",
        "print (\"floor\",arr3)"
      ],
      "execution_count": null,
      "outputs": [
        {
          "output_type": "stream",
          "text": [
            "3x3 matrix [[0.69774455 0.37658753 0.87660254]\n",
            " [0.12671707 0.89531728 0.13104597]\n",
            " [0.13752763 0.20479914 0.53117606]]\n",
            "ceil [[1. 1. 1.]\n",
            " [1. 1. 1.]\n",
            " [1. 1. 1.]]\n",
            "floor [[0. 0. 0.]\n",
            " [0. 0. 0.]\n",
            " [0. 0. 0.]]\n"
          ],
          "name": "stdout"
        }
      ]
    },
    {
      "cell_type": "markdown",
      "metadata": {
        "id": "oln9t19WqzBb"
      },
      "source": [
        "3. Create a random 1x4 array and print the random array and its shape.\n",
        "    \n",
        "      (use the shape function for finding the shape & use the same random we created here for both the below operations.)\n",
        "\n",
        "  a) Squeeze the random array and print the squeezed array and its shape.\n",
        "  b) Expand the random array by one axis and print the expanded array and its shape."
      ]
    },
    {
      "cell_type": "code",
      "metadata": {
        "id": "cbGGwRo3vpVX",
        "colab": {
          "base_uri": "https://localhost:8080/"
        },
        "outputId": "5748006f-cf6d-4757-88f2-6c5fe0654c3f"
      },
      "source": [
        " \n",
        " matrix = np.random.randint(10, size=(1, 4))\n",
        "print (\"matrix =\\n\",matrix)\n",
        "print(\"shape =\",matrix.shape)\n",
        " \n",
        "a=matrix.squeeze()\n",
        "print(\"squeezed array\",a)\n",
        "print(\"squeezed array shape\",a.shape)\n",
        "exp=np.expand_dims(matrix,axis=1)\n",
        "print(\"shape :\\n\",exp.shape)"
      ],
      "execution_count": null,
      "outputs": [
        {
          "output_type": "stream",
          "text": [
            "matrix =\n",
            " [[7 1 1 3]]\n",
            "shape = (1, 4)\n",
            "squeezed array [7 1 1 3]\n",
            "squeezed array shape (4,)\n",
            "shape :\n",
            " (1, 1, 4)\n"
          ],
          "name": "stdout"
        }
      ]
    }
  ]
}