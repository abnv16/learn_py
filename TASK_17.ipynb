{
  "nbformat": 4,
  "nbformat_minor": 0,
  "metadata": {
    "colab": {
      "name": "Copy of TASK 17.ipynb",
      "provenance": [],
      "include_colab_link": true
    },
    "kernelspec": {
      "name": "python3",
      "display_name": "Python 3"
    },
    "language_info": {
      "name": "python"
    }
  },
  "cells": [
    {
      "cell_type": "markdown",
      "metadata": {
        "id": "view-in-github",
        "colab_type": "text"
      },
      "source": [
        "<a href=\"https://colab.research.google.com/github/abnv16/learn_py/blob/main/TASK_17.ipynb\" target=\"_parent\"><img src=\"https://colab.research.google.com/assets/colab-badge.svg\" alt=\"Open In Colab\"/></a>"
      ]
    },
    {
      "cell_type": "markdown",
      "metadata": {
        "id": "0SLapvpoaeYY"
      },
      "source": [
        "1. Create a DataFrame by passing a random numpy array,with a datetie index and labelled columns.and display its,\n",
        "     - Head\n",
        "     - Tail\n",
        "     - Index \n",
        "     - Columns\n",
        "     - Values\n",
        "     - statistics\n"
      ]
    },
    {
      "cell_type": "code",
      "metadata": {
        "id": "zJDkjyVxa5yU",
        "colab": {
          "base_uri": "https://localhost:8080/"
        },
        "outputId": "095f2c88-2012-4d55-8c9e-5ba362dfd0eb"
      },
      "source": [
        "import numpy as np\n",
        "import pandas as pd\n",
        "datetie = pd.date_range('2021-08-31',periods=4) \n",
        "df = pd.DataFrame(np.random.randn(4,4), index=datetie, columns=list('ABCD')) \n",
        "print(\"Head:\\n\", df.head(n=2)) \n",
        "print(\"Tail:\\n\", df.tail(n=2)) \n",
        "print(\"Index:\\n\", df.index) \n",
        "print(\"Columns:\\n\", df.columns) \n",
        "print(\"Values:\\n\", df.values) \n",
        "print(\"Statistics:\\n\", df.describe(include='all'))"
      ],
      "execution_count": 4,
      "outputs": [
        {
          "output_type": "stream",
          "name": "stdout",
          "text": [
            "Head:\n",
            "                    A         B         C         D\n",
            "2021-08-31  0.554636 -0.458144 -0.506081 -1.140856\n",
            "2021-09-01  0.881138 -0.059952  1.617083 -0.651229\n",
            "Tail:\n",
            "                    A         B        C         D\n",
            "2021-09-02 -0.960523 -0.299863  1.31227  0.174914\n",
            "2021-09-03  0.232456  1.313706  0.40954 -0.086865\n",
            "Index:\n",
            " DatetimeIndex(['2021-08-31', '2021-09-01', '2021-09-02', '2021-09-03'], dtype='datetime64[ns]', freq='D')\n",
            "Columns:\n",
            " Index(['A', 'B', 'C', 'D'], dtype='object')\n",
            "Values:\n",
            " [[ 0.55463566 -0.45814438 -0.50608142 -1.14085603]\n",
            " [ 0.88113819 -0.05995234  1.61708347 -0.65122884]\n",
            " [-0.96052312 -0.29986344  1.3122702   0.17491415]\n",
            " [ 0.23245557  1.31370648  0.40954001 -0.08686484]]\n",
            "Statistics:\n",
            "               A         B         C         D\n",
            "count  4.000000  4.000000  4.000000  4.000000\n",
            "mean   0.176927  0.123937  0.708203 -0.426009\n",
            "std    0.803213  0.809896  0.958236  0.588177\n",
            "min   -0.960523 -0.458144 -0.506081 -1.140856\n",
            "25%   -0.065789 -0.339434  0.180635 -0.773636\n",
            "50%    0.393546 -0.179908  0.860905 -0.369047\n",
            "75%    0.636261  0.283462  1.388474 -0.021420\n",
            "max    0.881138  1.313706  1.617083  0.174914\n"
          ]
        }
      ]
    },
    {
      "cell_type": "markdown",
      "metadata": {
        "id": "xnkA2mKDdyoO"
      },
      "source": [
        "2. Use the above table and,\n",
        "      - find transpose of your data.\n",
        "      - sort the index in the descending order of the date."
      ]
    },
    {
      "cell_type": "code",
      "metadata": {
        "id": "uqcQSEOufJ5P",
        "colab": {
          "base_uri": "https://localhost:8080/"
        },
        "outputId": "f7f0938f-947b-4558-ae8c-c3b8a757b250"
      },
      "source": [
        "print(\"Transpose\\n\", df.transpose()) \n",
        "print(\"Sorted in Descending Order\\n\", df.sort_index(ascending=False))"
      ],
      "execution_count": null,
      "outputs": [
        {
          "output_type": "stream",
          "text": [
            "Transpose\n",
            "    2021-08-24  2021-08-25  2021-08-26  2021-08-27\n",
            "A    0.181591    0.568585   -0.164965    0.976366\n",
            "B    2.359344    0.172435    0.736717    0.220670\n",
            "C   -0.728234    0.411873   -0.229653   -0.641891\n",
            "D    0.892118    0.700101    0.108273    1.277697\n",
            "Sorted in Descending Order\n",
            "                    A         B         C         D\n",
            "2021-08-27  0.976366  0.220670 -0.641891  1.277697\n",
            "2021-08-26 -0.164965  0.736717 -0.229653  0.108273\n",
            "2021-08-25  0.568585  0.172435  0.411873  0.700101\n",
            "2021-08-24  0.181591  2.359344 -0.728234  0.892118\n"
          ],
          "name": "stdout"
        }
      ]
    },
    {
      "cell_type": "markdown",
      "metadata": {
        "id": "ss7s_8iDbAcL"
      },
      "source": [
        ""
      ]
    }
  ]
}