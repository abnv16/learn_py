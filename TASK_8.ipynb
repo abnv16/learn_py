{
  "nbformat": 4,
  "nbformat_minor": 0,
  "metadata": {
    "colab": {
      "name": "Copy of TASK 8.ipynb",
      "provenance": [],
      "include_colab_link": true
    },
    "kernelspec": {
      "name": "python3",
      "display_name": "Python 3"
    },
    "language_info": {
      "name": "python"
    }
  },
  "cells": [
    {
      "cell_type": "markdown",
      "metadata": {
        "id": "view-in-github",
        "colab_type": "text"
      },
      "source": [
        "<a href=\"https://colab.research.google.com/github/abnv16/learn_py/blob/main/TASK_8.ipynb\" target=\"_parent\"><img src=\"https://colab.research.google.com/assets/colab-badge.svg\" alt=\"Open In Colab\"/></a>"
      ]
    },
    {
      "cell_type": "markdown",
      "metadata": {
        "id": "slsGswYbJSo7"
      },
      "source": [
        "1. Generate a 3 x 3 matrix using random module."
      ]
    },
    {
      "cell_type": "code",
      "metadata": {
        "id": "GGRQSYyNJW9t"
      },
      "source": [
        "import numpy as np\n",
        "import random\n",
        "\n",
        "sample=[random.randrange(1,100)for i in range (9)]\n",
        "arr=np.array(sample)\n",
        "newarr=arr.reshape(3,3)\n",
        "print(newarr)\n"
      ],
      "execution_count": null,
      "outputs": []
    },
    {
      "cell_type": "markdown",
      "metadata": {
        "id": "4OB9KFX6JfYA"
      },
      "source": [
        "2. Generate two 4 x 4 matrix using numpy and \n",
        "\n",
        " a) Reshape it to 2 x 8matrix and vertically stack it.\n",
        "\n",
        " b) Reshape it to 2 x 8 matrix and horizontally stack it."
      ]
    },
    {
      "cell_type": "code",
      "metadata": {
        "id": "VoIqYeNWJ4H_"
      },
      "source": [
        "import numpy as np\n",
        "import random\n",
        "\n",
        "sample=[random.randrange(1,100)for i in range (16)]\n",
        "arr=np.array(sample)\n",
        "newarr=arr.reshape(4,4)\n",
        "print(\"4x4 matrix : \",newarr)\n",
        "newarr1=newarr.reshape(2,8)\n",
        "print(\"2x8 matrix : \",newarr1)\n",
        "ho=np.hstack(newarr1)\n",
        "ve=np.vstack(newarr1)\n",
        "\n",
        "print(\"horizontal stack :\",ho)\n",
        "print(\"vertical stack :\",ve)\n"
      ],
      "execution_count": null,
      "outputs": []
    }
  ]
}