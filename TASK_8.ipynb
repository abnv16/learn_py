{
  "nbformat": 4,
  "nbformat_minor": 0,
  "metadata": {
    "colab": {
      "name": "Copy of TASK 8.ipynb",
      "provenance": [],
      "include_colab_link": true
    },
    "kernelspec": {
      "name": "python3",
      "display_name": "Python 3"
    },
    "language_info": {
      "name": "python"
    }
  },
  "cells": [
    {
      "cell_type": "markdown",
      "metadata": {
        "id": "view-in-github",
        "colab_type": "text"
      },
      "source": [
        "<a href=\"https://colab.research.google.com/github/abnv16/learn_py/blob/main/TASK_8.ipynb\" target=\"_parent\"><img src=\"https://colab.research.google.com/assets/colab-badge.svg\" alt=\"Open In Colab\"/></a>"
      ]
    },
    {
      "cell_type": "markdown",
      "metadata": {
        "id": "slsGswYbJSo7"
      },
      "source": [
        "1. Generate a 3 x 3 matrix using random module."
      ]
    },
    {
      "cell_type": "code",
      "metadata": {
        "id": "GGRQSYyNJW9t",
        "colab": {
          "base_uri": "https://localhost:8080/"
        },
        "outputId": "102faec2-7b3b-40c7-9d71-b971378259c8"
      },
      "source": [
        "import numpy as np\n",
        "import random\n",
        "\n",
        "sample=[random.randrange(1,100)for i in range (9)]\n",
        "arr=np.array(sample)\n",
        "newarr=arr.reshape(3,3)\n",
        "print(newarr)\n"
      ],
      "execution_count": 1,
      "outputs": [
        {
          "output_type": "stream",
          "text": [
            "[[43 84  6]\n",
            " [98 78 14]\n",
            " [17 86 13]]\n"
          ],
          "name": "stdout"
        }
      ]
    },
    {
      "cell_type": "markdown",
      "metadata": {
        "id": "4OB9KFX6JfYA"
      },
      "source": [
        "2. Generate two 4 x 4 matrix using numpy and \n",
        "\n",
        " a) Reshape it to 2 x 8matrix and vertically stack it.\n",
        "\n",
        " b) Reshape it to 2 x 8 matrix and horizontally stack it."
      ]
    },
    {
      "cell_type": "code",
      "metadata": {
        "id": "VoIqYeNWJ4H_",
        "colab": {
          "base_uri": "https://localhost:8080/"
        },
        "outputId": "cb0dcab2-1271-4af5-c300-a6d6d59c8c4d"
      },
      "source": [
        "import numpy as np\n",
        "import random\n",
        "\n",
        "sample=[random.randrange(1,100)for i in range (16)]\n",
        "arr=np.array(sample)\n",
        "newarr=arr.reshape(4,4)\n",
        "print(\"4x4 matrix : \",newarr)\n",
        "newarr1=newarr.reshape(2,8)\n",
        "print(\"2x8 matrix : \",newarr1)\n",
        "ho=np.hstack(newarr1)\n",
        "ve=np.vstack(newarr1)\n",
        "\n",
        "print(\"horizontal stack :\",ho)\n",
        "print(\"vertical stack :\",ve)\n"
      ],
      "execution_count": 2,
      "outputs": [
        {
          "output_type": "stream",
          "text": [
            "4x4 matrix :  [[12 54 28 40]\n",
            " [57 25 62 41]\n",
            " [79 77 63  5]\n",
            " [36 88 86 49]]\n",
            "2x8 matrix :  [[12 54 28 40 57 25 62 41]\n",
            " [79 77 63  5 36 88 86 49]]\n",
            "horizontal stack : [12 54 28 40 57 25 62 41 79 77 63  5 36 88 86 49]\n",
            "vertical stack : [[12 54 28 40 57 25 62 41]\n",
            " [79 77 63  5 36 88 86 49]]\n"
          ],
          "name": "stdout"
        }
      ]
    }
  ]
}